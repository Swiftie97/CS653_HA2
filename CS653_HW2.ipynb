{
 "cells": [
  {
   "cell_type": "markdown",
   "id": "5c7eb748",
   "metadata": {},
   "source": [
    "# Imports and CoW"
   ]
  },
  {
   "cell_type": "code",
   "execution_count": 20,
   "id": "ea23df30",
   "metadata": {},
   "outputs": [],
   "source": [
    "import pandas as pd\n",
    "from pathlib import Path\n",
    "import matplotlib.pyplot as plt\n",
    "import seaborn as sns"
   ]
  },
  {
   "cell_type": "code",
   "execution_count": 21,
   "id": "6146fff3",
   "metadata": {},
   "outputs": [],
   "source": [
    "pd.set_option(\"mode.copy_on_write\", True) # Will be default in pandas 3.0"
   ]
  },
  {
   "cell_type": "markdown",
   "id": "db1c9b20",
   "metadata": {},
   "source": [
    "# Read in data"
   ]
  },
  {
   "cell_type": "code",
   "execution_count": 22,
   "id": "bc55a2ac",
   "metadata": {},
   "outputs": [],
   "source": [
    "pd.set_option(\"mode.copy_on_write\", True)\n",
    "cwd = Path().cwd()\n",
    "wine_quality_red_filename = Path('winequality-red.csv')\n",
    "wine_quality_white_filename = Path('winequality-white.csv')\n",
    "\n",
    "if not wine_quality_red_filename.exists():\n",
    "    raise FileNotFoundError(f\"Dataset file not found: {wine_quality_red_filename}\")\n",
    "if not wine_quality_white_filename.exists():\n",
    "    raise FileNotFoundError(f\"Dataset file not found: {wine_quality_white_filename}\")\n",
    "\n",
    "wine_red = pd.read_csv(wine_quality_red_filename, sep=';') # 1599 data points\n",
    "wine_white = pd.read_csv(wine_quality_white_filename, sep=';') # 4898 data points"
   ]
  },
  {
   "cell_type": "markdown",
   "id": "9ef15784",
   "metadata": {},
   "source": [
    "# Question 1"
   ]
  },
  {
   "cell_type": "code",
   "execution_count": null,
   "id": "d3b8d640",
   "metadata": {},
   "outputs": [],
   "source": [
    "wine_red_quality = wine_red['quality'] # Range 3-8\n",
    "wine_white_quality = wine_white['quality'] # Range 3-9\n",
    "\n",
    "# Ranges found with below functions\n",
    "print(\"Red wine quality scores range: [{0},{1}]\".format(wine_red_quality.min(), wine_red_quality.max()))\n",
    "print(\"White wine quality scores range: [{0},{1}]\".format(wine_white_quality.min(), wine_white_quality.max()))\n",
    "\n",
    "# Format bin size\n",
    "bins = [0.5, 1.5, 2.5, 3.5, 4.5, 5.5, 6.5, 7.5, 8.5, 9.5, 10.5]\n",
    "\n",
    "# Make both plots side by side\n",
    "fig, (ax1, ax2) = plt.subplots(1, 2, figsize=(12,5))  # side by side\n",
    "\n",
    "# Plot red wine quality\n",
    "ax1.hist(wine_red_quality, bins=bins, color='red', edgecolor='black')\n",
    "ax1.set_xticks(range(0, 11))\n",
    "ax1.set_title(\"Red Wine Quality\")\n",
    "ax1.set_xlabel(\"Quality\")\n",
    "ax1.set_ylabel(\"Count\")\n",
    "\n",
    "# Plot white wine quality\n",
    "ax2.hist(wine_white_quality, bins=bins, color='gold', edgecolor='black')\n",
    "ax2.set_xticks(range(0, 11))\n",
    "ax2.set_title(\"White Wine Quality\")\n",
    "ax2.set_xlabel(\"Quality\")\n",
    "ax2.set_ylabel(\"Count\")\n",
    "\n",
    "plt.tight_layout()\n",
    "plt.show()"
   ]
  },
  {
   "cell_type": "markdown",
   "id": "4240d91c",
   "metadata": {},
   "source": [
    "# Question 2"
   ]
  },
  {
   "cell_type": "code",
   "execution_count": null,
   "id": "97cbe771",
   "metadata": {},
   "outputs": [],
   "source": [
    "# Fixed acidity\n",
    "wine_red_fixed_acidity = wine_red['fixed acidity']\n",
    "wine_white_fixed_acidity = wine_white['fixed acidity']\n",
    "# Make both plots side by side\n",
    "fig, (ax1, ax2) = plt.subplots(1, 2, figsize=(12,5))  # side by side\n",
    "ax1.boxplot(wine_red_fixed_acidity)\n",
    "ax1.set_title(\"Red Wine Fixed acidity\")\n",
    "ax1.set_ylim(3, 17)\n",
    "ax2.boxplot(wine_white_fixed_acidity)\n",
    "ax2.set_title(\"White Wine Fixed acidity\")\n",
    "ax2.set_ylim(3, 17)\n",
    "ax1.set_xticks([]) # Hides the 1\n",
    "ax2.set_xticks([]) # Hides the 1\n",
    "plt.tight_layout()\n",
    "plt.show()\n",
    "\n",
    "\n",
    "# Volatile acidity\n",
    "wine_red_volatile_acidity = wine_red['volatile acidity']\n",
    "wine_white_volatile_acidity = wine_white['volatile acidity']\n",
    "# Make both plots side by side\n",
    "fig, (ax1, ax2) = plt.subplots(1, 2, figsize=(12,5))  # side by side\n",
    "ax1.boxplot(wine_red_volatile_acidity)\n",
    "ax1.set_title(\"Red Wine Volatile acidity\")\n",
    "ax1.set_ylim(0, 1.7) \n",
    "ax2.boxplot(wine_white_volatile_acidity)\n",
    "ax2.set_title(\"White Wine Volatile acidity\")\n",
    "ax2.set_ylim(0, 1.7)\n",
    "ax1.set_xticks([]) # Hides the 1\n",
    "ax2.set_xticks([]) # Hides the 1\n",
    "plt.tight_layout()\n",
    "plt.show()\n",
    "\n",
    "# pH\n",
    "wine_red_pH = wine_red['pH']\n",
    "wine_white_pH = wine_white['pH']\n",
    "# Make both plots side by side\n",
    "fig, (ax1, ax2) = plt.subplots(1, 2, figsize=(12,5))  # side by side\n",
    "ax1.boxplot(wine_red_pH)\n",
    "ax1.set_title(\"Red Wine pH\")\n",
    "ax1.set_ylim(2.6, 4.2)\n",
    "ax2.boxplot(wine_white_pH)\n",
    "ax2.set_title(\"White Wine pH\")\n",
    "ax2.set_ylim(2.6, 4.2)\n",
    "ax1.set_xticks([]) # Hides the 1\n",
    "ax2.set_xticks([]) # Hides the 1\n",
    "plt.tight_layout()\n",
    "plt.show()\n",
    "\n",
    "# Density\n",
    "wine_red_density = wine_red['density']\n",
    "wine_white_density = wine_white['density']\n",
    "# Make both plots side by side\n",
    "fig, (ax1, ax2) = plt.subplots(1, 2, figsize=(12,5))  # side by side\n",
    "ax1.boxplot(wine_red_density)\n",
    "ax1.set_title(\"Red Wine density\")\n",
    "ax1.set_ylim(0.98, 1.04)\n",
    "ax2.boxplot(wine_white_density)\n",
    "ax2.set_title(\"White Wine density\")\n",
    "ax2.set_ylim(0.98, 1.04)\n",
    "ax1.set_xticks([]) # Hides the 1\n",
    "ax2.set_xticks([]) # Hides the 1\n",
    "plt.tight_layout()\n",
    "plt.show()"
   ]
  }
 ],
 "metadata": {
  "kernelspec": {
   "display_name": "venv_CS653_HW2",
   "language": "python",
   "name": "python3"
  },
  "language_info": {
   "codemirror_mode": {
    "name": "ipython",
    "version": 3
   },
   "file_extension": ".py",
   "mimetype": "text/x-python",
   "name": "python",
   "nbconvert_exporter": "python",
   "pygments_lexer": "ipython3",
   "version": "3.12.6"
  }
 },
 "nbformat": 4,
 "nbformat_minor": 5
}

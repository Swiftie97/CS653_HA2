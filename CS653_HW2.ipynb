{
 "cells": [
  {
   "cell_type": "markdown",
   "id": "5c7eb748",
   "metadata": {},
   "source": [
    "# Imports and CoW"
   ]
  },
  {
   "cell_type": "code",
   "execution_count": null,
   "id": "ea23df30",
   "metadata": {},
   "outputs": [],
   "source": [
    "import pandas as pd\n",
    "from pathlib import Path\n",
    "import matplotlib.pyplot as plt\n",
    "import seaborn as sns\n",
    "import numpy as np"
   ]
  },
  {
   "cell_type": "code",
   "execution_count": null,
   "id": "6146fff3",
   "metadata": {},
   "outputs": [],
   "source": [
    "pd.set_option(\"mode.copy_on_write\", True) # Will be default in pandas 3.0"
   ]
  },
  {
   "cell_type": "markdown",
   "id": "db1c9b20",
   "metadata": {},
   "source": [
    "# Read in data"
   ]
  },
  {
   "cell_type": "code",
   "execution_count": null,
   "id": "bc55a2ac",
   "metadata": {},
   "outputs": [],
   "source": [
    "pd.set_option(\"mode.copy_on_write\", True)\n",
    "cwd = Path().cwd()\n",
    "wine_quality_red_filename = Path('winequality-red.csv')\n",
    "wine_quality_white_filename = Path('winequality-white.csv')\n",
    "\n",
    "if not wine_quality_red_filename.exists():\n",
    "    raise FileNotFoundError(f\"Dataset file not found: {wine_quality_red_filename}\")\n",
    "if not wine_quality_white_filename.exists():\n",
    "    raise FileNotFoundError(f\"Dataset file not found: {wine_quality_white_filename}\")\n",
    "\n",
    "wine_red = pd.read_csv(wine_quality_red_filename, sep=';') # 1599 data points\n",
    "wine_white = pd.read_csv(wine_quality_white_filename, sep=';') # 4898 data points"
   ]
  },
  {
   "cell_type": "markdown",
   "id": "9ef15784",
   "metadata": {},
   "source": [
    "# Question 1"
   ]
  },
  {
   "cell_type": "code",
   "execution_count": null,
   "id": "d3b8d640",
   "metadata": {},
   "outputs": [],
   "source": [
    "wine_red_quality = wine_red['quality'] # Range 3-8\n",
    "wine_white_quality = wine_white['quality'] # Range 3-9\n",
    "\n",
    "# Ranges found with below functions\n",
    "print(\"Red wine quality scores range: [{0},{1}]\".format(wine_red_quality.min(), wine_red_quality.max()))\n",
    "print(\"White wine quality scores range: [{0},{1}]\".format(wine_white_quality.min(), wine_white_quality.max()))\n",
    "\n",
    "# Format bin size\n",
    "bins = [0.5, 1.5, 2.5, 3.5, 4.5, 5.5, 6.5, 7.5, 8.5, 9.5, 10.5]\n",
    "\n",
    "# Make both plots side by side\n",
    "fig, (ax1, ax2) = plt.subplots(1, 2, figsize=(12,5))  # side by side\n",
    "\n",
    "# Plot red wine quality\n",
    "ax1.hist(wine_red_quality, bins=bins, color='red', edgecolor='black')\n",
    "ax1.set_xticks(range(0, 11))\n",
    "ax1.set_title(\"Red Wine Quality\")\n",
    "ax1.set_xlabel(\"Quality\")\n",
    "ax1.set_ylabel(\"Count\")\n",
    "\n",
    "# Plot white wine quality\n",
    "ax2.hist(wine_white_quality, bins=bins, color='gold', edgecolor='black')\n",
    "ax2.set_xticks(range(0, 11))\n",
    "ax2.set_title(\"White Wine Quality\")\n",
    "ax2.set_xlabel(\"Quality\")\n",
    "ax2.set_ylabel(\"Count\")\n",
    "\n",
    "plt.tight_layout()\n",
    "plt.show()"
   ]
  },
  {
   "cell_type": "markdown",
   "id": "4240d91c",
   "metadata": {},
   "source": [
    "# Question 2"
   ]
  },
  {
   "cell_type": "code",
   "execution_count": null,
   "id": "97cbe771",
   "metadata": {},
   "outputs": [],
   "source": [
    "def create_boxplots(attribute, ylim_range):\n",
    "    wine_red_attribute = wine_red[attribute]\n",
    "    wine_white_attribute = wine_white[attribute]\n",
    "\n",
    "    # 4 boxplots arranged in 2x2 fashion\n",
    "    # Row 1 has red wine and white wine y limits matched\n",
    "    # Row 2 has red wine and white wine y limits automatically set\n",
    "    fig, axes = plt.subplots(2, 2, figsize=(12, 10))\n",
    "    \n",
    "\n",
    "    for i in range(len(axes)):\n",
    "\n",
    "        # Red\n",
    "        axes[i][0].boxplot(wine_red_attribute)\n",
    "        axes[i][0].set_title(\"Red Wine - {}\".format(attribute))\n",
    "        axes[i][0].set_xticks([]) # Hides the 1\n",
    "\n",
    "        # White\n",
    "        axes[i][1].boxplot(wine_white_attribute)\n",
    "        axes[i][1].set_title(\"White Wine - {}\".format(attribute))\n",
    "        axes[i][1].set_xticks([]) # Hides the 1\n",
    "\n",
    "        # Match y limits to increase ease of comparing median, Q1, Q3, and IQR\n",
    "        # Otherwise, keep y limits automatically set to increase ease of seeing outliers\n",
    "        if i == 0: \n",
    "            axes[i][0].set_ylim(ylim_range[0], ylim_range[1])\n",
    "            axes[i][1].set_ylim(ylim_range[0], ylim_range[1])\n",
    "            axes[i][0].set_ylabel(\"{} - match y limits\".format(attribute))\n",
    "        else:\n",
    "            axes[i][0].set_ylabel(\"{} - automatic y limits\".format(attribute))\n",
    "\n",
    "    plt.tight_layout()\n",
    "    plt.show()\n",
    "\n",
    "create_boxplots('fixed acidity', (3,17))\n",
    "create_boxplots('volatile acidity', (0, 1.7))\n",
    "create_boxplots('pH', (2.6, 4.2))\n",
    "create_boxplots('density', (0.98, 1.04))"
   ]
  },
  {
   "cell_type": "markdown",
   "id": "8c4f7895",
   "metadata": {},
   "source": [
    "# Question 3"
   ]
  },
  {
   "cell_type": "code",
   "execution_count": null,
   "id": "a910614a",
   "metadata": {},
   "outputs": [],
   "source": [
    "wine_red_scatter_subset = wine_red[['fixed acidity', 'volatile acidity', 'citric acid', 'residual sugar']]\n",
    "wine_white_scatter_subset = wine_white[['fixed acidity', 'volatile acidity', 'citric acid', 'residual sugar']]\n",
    "\n",
    "pd.plotting.scatter_matrix(wine_red_scatter_subset, alpha=0.2, figsize=(12, 12), c='red')\n",
    "pd.plotting.scatter_matrix(wine_white_scatter_subset, alpha=0.2, figsize=(12, 12), c='gold')"
   ]
  },
  {
   "cell_type": "markdown",
   "id": "af54a2d4",
   "metadata": {},
   "source": [
    "# Question 4"
   ]
  },
  {
   "cell_type": "code",
   "execution_count": null,
   "id": "39f10849",
   "metadata": {},
   "outputs": [
    {
     "name": "stdout",
     "output_type": "stream",
     "text": [
      "cosine_similarity\n",
      "0.9994598390908539\n",
      "0.8365980178843799\n",
      "0.0\n",
      "0.949833898366928\n"
     ]
    }
   ],
   "source": [
    "from scipy.spatial.distance import pdist, squareform\n",
    "\n",
    "def euclidean(rowA, rowB):\n",
    "    return np.sqrt(np.square(rowA - rowB).sum())\n",
    "\n",
    "def minkowski_distance(rowA, rowB, r):\n",
    "    return np.power(np.power(np.abs(rowA - rowB), r).sum(), 1 / r)\n",
    "\n",
    "def minkowski_distance_1(rowA, rowB):\n",
    "    return minkowski_distance(rowA, rowB, 1)\n",
    "\n",
    "def minkowski_distance_3(rowA, rowB):\n",
    "    return minkowski_distance(rowA, rowB, 3)\n",
    "\n",
    "def minkowski_distance_5(rowA, rowB):\n",
    "    return minkowski_distance(rowA, rowB, 5)\n",
    "\n",
    "def mahalanobis_distance(rowA, rowB):\n",
    "    return 69\n",
    "\n",
    "def cosine_similarity(rowA, rowB):\n",
    "    return rowA.dot(rowB) / np.sqrt(np.square(rowA).sum()) / np.sqrt(np.square(rowB).sum())\n",
    "\n",
    "def correlation(rowA, rowB):\n",
    "    return 69\n",
    "\n",
    "def linear_combo(rowA, rowB):\n",
    "    return 69\n",
    "\n",
    "def generateMatrix(data, distance_func):\n",
    "    matrix = squareform(pdist(data, metric=distance_func))\n",
    "    return matrix\n",
    "\n",
    "def generateMatricesForDataset(data, distance_func_list):\n",
    "    matrix_list = []\n",
    "    for distance_func in distance_func_list:\n",
    "         matrix = generateMatrix(data, distance_func)\n",
    "         matrix_list.append(matrix)\n",
    "         print(distance_func.__name__)\n",
    "         print(matrix[69][420])\n",
    "         print(matrix[0][1])\n",
    "         print(matrix[1598][1598])\n",
    "         print(matrix[1500][888])\n",
    "\n",
    "\n",
    "wine_red_sorted_quality = wine_red.sort_values(by='quality')\n",
    "wine_white_sorted_quality = wine_white.sort_values(by='quality')\n",
    "wine_red_sorted_quality = wine_red_sorted_quality.drop(columns='quality')\n",
    "wine_white_sorted_quality = wine_white_sorted_quality.drop(columns='quality')\n",
    "wine_red_sorted_quality = wine_red_sorted_quality.reset_index(drop=True)\n",
    "wine_white_sorted_quality = wine_white_sorted_quality.reset_index(drop=True)\n",
    "\n",
    "wine_red_sorted_quality.to_csv('wine_red_sorted_quality', index=False)\n",
    "wine_white_sorted_quality.to_csv('wine_white_sorted_quality', index=False)\n",
    "\n",
    "distance_func_list = [euclidean, minkowski_distance_1, minkowski_distance_3, minkowski_distance_5, \n",
    "                      mahalanobis_distance, cosine_similarity, correlation, linear_combo]\n",
    "# distance_func_list = [cosine_similarity]\n",
    "\n",
    "# euclidean_matrix = generateMatrix(wine_red_sorted_quality, euclidean)\n",
    "# md_1 = generateMatrix(wine_red_sorted_quality, minkowski_distance_1)\n",
    "generateMatricesForDataset(wine_red_sorted_quality, distance_func_list)\n",
    "\n",
    "# print(euclidean_matrix[69][420])\n",
    "# print(euclidean_matrix[0][1])\n",
    "# print(euclidean_matrix[1598][1598])\n",
    "# print(euclidean_matrix[1500][888])\n",
    "\n",
    "# print(md_1[69][420])\n",
    "# print(md_1[0][1])\n",
    "# print(md_1[1598][1598])\n",
    "# print(md_1[1500][888])"
   ]
  }
 ],
 "metadata": {
  "kernelspec": {
   "display_name": "venv_CS653_HW2",
   "language": "python",
   "name": "python3"
  },
  "language_info": {
   "codemirror_mode": {
    "name": "ipython",
    "version": 3
   },
   "file_extension": ".py",
   "mimetype": "text/x-python",
   "name": "python",
   "nbconvert_exporter": "python",
   "pygments_lexer": "ipython3",
   "version": "3.12.6"
  }
 },
 "nbformat": 4,
 "nbformat_minor": 5
}

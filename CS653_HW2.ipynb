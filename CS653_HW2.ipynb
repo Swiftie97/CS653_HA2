{
 "cells": [
  {
   "cell_type": "markdown",
   "id": "5c7eb748",
   "metadata": {},
   "source": [
    "# Imports and CoW"
   ]
  },
  {
   "cell_type": "code",
   "execution_count": null,
   "id": "ea23df30",
   "metadata": {},
   "outputs": [],
   "source": [
    "import pandas as pd\n",
    "from pathlib import Path\n",
    "import seaborn as sns"
   ]
  },
  {
   "cell_type": "code",
   "execution_count": null,
   "id": "6146fff3",
   "metadata": {},
   "outputs": [],
   "source": [
    "pd.set_option(\"mode.copy_on_write\", True) # Will be default in pandas 3.0"
   ]
  },
  {
   "cell_type": "markdown",
   "id": "db1c9b20",
   "metadata": {},
   "source": [
    "# Read in data"
   ]
  },
  {
   "cell_type": "code",
   "execution_count": null,
   "id": "bc55a2ac",
   "metadata": {},
   "outputs": [],
   "source": [
    "pd.set_option(\"mode.copy_on_write\", True)\n",
    "cwd = Path().cwd()\n",
    "wine_quality_red_filename = Path('winequality-red.csv')\n",
    "wine_quality_white_filename = Path('winequality-white.csv')\n",
    "\n",
    "if not wine_quality_red_filename.exists():\n",
    "    raise FileNotFoundError(f\"Dataset file not found: {wine_quality_red_filename}\")\n",
    "if not wine_quality_white_filename.exists():\n",
    "    raise FileNotFoundError(f\"Dataset file not found: {wine_quality_white_filename}\")\n",
    "\n",
    "wine_red = pd.read_csv(wine_quality_red_filename, sep=';')\n",
    "wine_white = pd.read_csv(wine_quality_white_filename, sep=';')"
   ]
  }
 ],
 "metadata": {
  "kernelspec": {
   "display_name": "venv_CS653_HW2",
   "language": "python",
   "name": "python3"
  },
  "language_info": {
   "codemirror_mode": {
    "name": "ipython",
    "version": 3
   },
   "file_extension": ".py",
   "mimetype": "text/x-python",
   "name": "python",
   "nbconvert_exporter": "python",
   "pygments_lexer": "ipython3",
   "version": "3.12.6"
  }
 },
 "nbformat": 4,
 "nbformat_minor": 5
}
